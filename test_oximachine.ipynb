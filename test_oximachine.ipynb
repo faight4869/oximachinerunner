{
 "cells": [
  {
   "cell_type": "markdown",
   "metadata": {},
   "source": [
    "# Testing the function / package"
   ]
  },
  {
   "cell_type": "code",
   "execution_count": 1,
   "metadata": {},
   "outputs": [],
   "source": [
    "from oximachinerunner import run_oximachine"
   ]
  },
  {
   "cell_type": "markdown",
   "metadata": {},
   "source": [
    "Small structure"
   ]
  },
  {
   "cell_type": "code",
   "execution_count": 2,
   "metadata": {},
   "outputs": [
    {
     "output_type": "stream",
     "name": "stderr",
     "text": "featurize.py: iterating over 2 metal sites\n"
    },
    {
     "output_type": "execute_result",
     "data": {
      "text/plain": "([2, 2], [0, 1], ['Fe', 'Fe'])"
     },
     "metadata": {},
     "execution_count": 2
    }
   ],
   "source": [
    "run_oximachine('oximachinerunner/assets/ACODAA.cif')"
   ]
  },
  {
   "cell_type": "markdown",
   "metadata": {},
   "source": [
    "Many metal centers"
   ]
  },
  {
   "cell_type": "code",
   "execution_count": 4,
   "metadata": {},
   "outputs": [
    {
     "output_type": "stream",
     "name": "stderr",
     "text": "featurize.py: iterating over 16 metal sites\n"
    },
    {
     "output_type": "execute_result",
     "data": {
      "text/plain": "([1, 1, 1, 1, 1, 1, 1, 1, 2, 2, 2, 2, 2, 2, 2, 2],\n [0, 1, 2, 3, 4, 5, 6, 7, 8, 9, 10, 11, 12, 13, 14, 15],\n ['Cu',\n  'Cu',\n  'Cu',\n  'Cu',\n  'Cu',\n  'Cu',\n  'Cu',\n  'Cu',\n  'Cu',\n  'Cu',\n  'Cu',\n  'Cu',\n  'Cu',\n  'Cu',\n  'Cu',\n  'Cu'])"
     },
     "metadata": {},
     "execution_count": 4
    }
   ],
   "source": [
    "run_oximachine('oximachinerunner/assets/KAJZIH_freeONLY.cif')"
   ]
  },
  {
   "cell_type": "code",
   "execution_count": null,
   "metadata": {},
   "outputs": [],
   "source": []
  }
 ],
 "metadata": {
  "language_info": {
   "codemirror_mode": {
    "name": "ipython",
    "version": 3
   },
   "file_extension": ".py",
   "mimetype": "text/x-python",
   "name": "python",
   "nbconvert_exporter": "python",
   "pygments_lexer": "ipython3",
   "version": "3.7.6-final"
  },
  "orig_nbformat": 2,
  "kernelspec": {
   "name": "python37664bitoximachinerunnerconda8c1ab05b123f455d9f857991dc425eba",
   "display_name": "Python 3.7.6 64-bit ('oximachinerunner': conda)"
  }
 },
 "nbformat": 4,
 "nbformat_minor": 2
}